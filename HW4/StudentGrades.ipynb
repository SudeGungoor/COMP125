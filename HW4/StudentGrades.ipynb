{
 "cells": [
  {
   "cell_type": "code",
   "execution_count": 429,
   "metadata": {},
   "outputs": [],
   "source": [
    "# Do not forget to run this cell.\n",
    "import numpy as np"
   ]
  },
  {
   "cell_type": "markdown",
   "metadata": {},
   "source": [
    "# PART A"
   ]
  },
  {
   "cell_type": "code",
   "execution_count": 430,
   "metadata": {},
   "outputs": [],
   "source": [
    "# You should start with opening the file and reading its contents.\n",
    "filename = 'students.txt'"
   ]
  },
  {
   "cell_type": "code",
   "execution_count": 431,
   "metadata": {
    "scrolled": true
   },
   "outputs": [
    {
     "data": {
      "text/plain": [
       "array([[ 94.98,  63.49,  40.63,  41.31],\n",
       "       [ 87.14,  32.68,  54.55,  71.27],\n",
       "       [ 54.36,  64.01,  41.36,  40.38],\n",
       "       [ 75.95,  31.11,   0.  ,  60.96],\n",
       "       [ 29.16,  53.35,  72.95,  63.14],\n",
       "       [ 66.76,  81.77,  22.7 ,  44.09],\n",
       "       [ 62.64,  62.71,  88.79,  57.24],\n",
       "       [ 52.42,  59.96,  29.42,  85.98],\n",
       "       [ 45.78,  81.9 ,  37.85,  56.15],\n",
       "       [ 92.85,  48.43,  66.31,  63.07],\n",
       "       [ 53.98,  35.92,  81.61,  65.27],\n",
       "       [ 62.52,  52.85,  16.74,  59.15],\n",
       "       [ 53.32,  53.69,  63.81,  53.92],\n",
       "       [100.  ,  89.08,  34.95,  63.72],\n",
       "       [ 32.31,  35.01,  68.56,  67.13],\n",
       "       [ 62.02,  81.61,  56.87,  58.51],\n",
       "       [ 21.82,  80.09,  49.06,  41.85],\n",
       "       [ 65.15,  84.54,  94.3 ,  54.8 ],\n",
       "       [ 77.9 ,  52.75,  90.67,  70.49],\n",
       "       [ 63.65,  55.49,  54.18,  40.78],\n",
       "       [ 77.5 ,  73.45,  45.98,  29.66],\n",
       "       [ 57.53,  53.22,  77.42,  37.64],\n",
       "       [ 66.78,  52.87,  69.46,  35.49],\n",
       "       [ 85.31,  41.03,  54.27,  58.95],\n",
       "       [ 78.71,  28.95,  59.74,  47.68],\n",
       "       [ 65.41,  89.18,  50.92,  60.59],\n",
       "       [ 40.  ,  66.61,  53.88,  85.54],\n",
       "       [ 43.2 ,  48.2 ,  69.07,  74.75],\n",
       "       [ 68.  ,  40.2 ,  26.45,  41.67],\n",
       "       [ 75.94,  54.99,   4.15,  82.01],\n",
       "       [ 61.13,  42.43,  62.91,  59.82],\n",
       "       [ 84.82,  53.84,  64.04,  40.43],\n",
       "       [ 74.96,  61.67,  23.43,  40.03],\n",
       "       [ 52.48,  72.26,  30.91,  51.56],\n",
       "       [ 86.69,  58.86,  35.99,  60.31],\n",
       "       [ 56.47,  70.99,  46.22,  50.48],\n",
       "       [ 58.08,  53.49,  30.8 ,  29.81],\n",
       "       [ 50.24,  54.21,  86.87,  69.08],\n",
       "       [ 66.2 ,  57.54,  64.26,  50.24],\n",
       "       [ 84.48,  45.63,  35.05,  68.64],\n",
       "       [ 50.3 ,  74.73,  57.57,  24.08],\n",
       "       [ 60.01,  26.75,   7.76,  10.96],\n",
       "       [ 92.82,  50.31,  28.09,  62.59],\n",
       "       [ 48.03,  29.99,  37.36,  12.15],\n",
       "       [ 69.77,  43.16,  22.49,  26.63],\n",
       "       [ 92.88,  85.35,  14.51,  40.12],\n",
       "       [ 50.25,  78.9 ,  31.44,  45.79],\n",
       "       [ 52.11,  35.49,   7.77,   0.  ],\n",
       "       [ 39.77,  63.92,  67.26,  32.18],\n",
       "       [ 84.06,  49.53,  49.04,  64.54],\n",
       "       [ 45.66,  25.43,  85.51,  73.99],\n",
       "       [ 33.06,  35.02,  40.16,  60.83],\n",
       "       [ 78.45,  49.21,  61.54,  50.99],\n",
       "       [ 67.84,  45.93,  67.87,  46.3 ],\n",
       "       [ 79.38,  74.36,  10.45,  48.03],\n",
       "       [ 82.13,  36.85,  33.68,  56.89],\n",
       "       [ 51.47,  57.71, 100.  ,  41.43],\n",
       "       [ 20.35,  36.26,  71.97,  34.58],\n",
       "       [ 85.78,  43.5 , 100.  ,  46.4 ],\n",
       "       [ 62.76,  63.37,  59.57,  28.46],\n",
       "       [ 72.  ,  50.12,  50.8 ,  22.96],\n",
       "       [ 37.99,  53.79,  14.29,  57.31],\n",
       "       [ 59.87,  51.28, 100.  ,  28.35],\n",
       "       [ 68.37,  78.25,  10.  ,  50.73],\n",
       "       [ 59.86,  69.33,  89.31,  27.52],\n",
       "       [ 91.59,  45.02,   0.  ,  45.62],\n",
       "       [ 72.36,  48.96,  41.19,  30.55],\n",
       "       [ 47.43,  62.07,  86.71,  92.06],\n",
       "       [ 66.42,  55.13,  37.85,  71.66],\n",
       "       [ 40.49,  34.02,  58.97,  36.39],\n",
       "       [ 90.62,  72.2 ,  78.24, 100.  ],\n",
       "       [ 33.61,  78.12,  78.3 ,  74.19],\n",
       "       [ 62.62,  66.84,  14.49,  56.15],\n",
       "       [ 81.52,  80.64,  83.  ,  57.84],\n",
       "       [ 69.11,  69.59,  28.15,  19.49],\n",
       "       [ 86.39,  50.39,  45.57,  42.25],\n",
       "       [ 46.88,  67.81,  53.45,  29.84],\n",
       "       [ 18.12,  65.74,   9.12,  45.9 ],\n",
       "       [ 64.92,  53.74,  61.  ,  45.03],\n",
       "       [ 47.41,  42.37,  27.58,  38.22],\n",
       "       [ 60.63,  60.66,  65.16,  15.8 ],\n",
       "       [ 68.2 ,  62.4 ,  86.98,  54.49],\n",
       "       [ 54.07,  56.75,  46.74,  36.88],\n",
       "       [ 52.64,  56.4 ,  21.79,  58.27],\n",
       "       [ 44.87,  70.18,   8.89,  52.61],\n",
       "       [ 44.38,  53.42,   0.  ,  44.69],\n",
       "       [ 41.54,  27.02,  42.48,  48.26],\n",
       "       [ 80.5 ,  51.19, 100.  ,  63.24],\n",
       "       [ 58.42,  69.39,  49.47,  13.15],\n",
       "       [ 49.06,  65.72,  77.06,  10.3 ],\n",
       "       [ 78.33,  57.28,  81.5 ,  49.82],\n",
       "       [ 49.25,  75.49,  54.05,  69.39],\n",
       "       [ 62.05,  66.75,  64.72,  44.24],\n",
       "       [ 59.87,  54.27,  96.66,  42.5 ],\n",
       "       [ 53.23,  55.09,  12.54,  94.3 ],\n",
       "       [ 30.25,  96.41,  61.81,  12.19],\n",
       "       [ 66.8 ,  76.66, 100.  ,  67.29],\n",
       "       [ 94.05,  66.63,  90.63,  31.53],\n",
       "       [ 41.1 ,  78.76,  85.93,  77.42],\n",
       "       [ 81.06,  51.06,  37.95,  25.14]])"
      ]
     },
     "execution_count": 431,
     "metadata": {},
     "output_type": "execute_result"
    }
   ],
   "source": [
    "# IMPLEMENT YOUR CODE HERE. Your final result should be an array.\n",
    "file = open(filename , 'r')\n",
    "i=0\n",
    "infos = []\n",
    "list1 = []\n",
    "for line in file:\n",
    "    info = line.strip(\"\\n\").split(\",\")\n",
    "    if i >= 2:\n",
    "        for a in info:\n",
    "            list1.append(float(a))\n",
    "        infos.append(list1)\n",
    "    i+=1\n",
    "arrayinfos = np.ndarray((100,4), dtype=float,buffer=np.array(infos))\n",
    "file.close()\n",
    "arrayinfos"
   ]
  },
  {
   "cell_type": "markdown",
   "metadata": {},
   "source": [
    "# PART B"
   ]
  },
  {
   "cell_type": "code",
   "execution_count": 432,
   "metadata": {},
   "outputs": [],
   "source": [
    "# In this part, you will be calculating the variance of the final exam grades."
   ]
  },
  {
   "cell_type": "code",
   "execution_count": 433,
   "metadata": {},
   "outputs": [
    {
     "data": {
      "text/plain": [
       "381.9866650000001"
      ]
     },
     "execution_count": 433,
     "metadata": {},
     "output_type": "execute_result"
    }
   ],
   "source": [
    "# IMPLEMENT YOUR CODE HERE. Your final result should be a float.\n",
    "mean = np.mean(arrayinfos,axis=0) \n",
    "meanfinal=mean[-1]\n",
    "total=0\n",
    "for i in arrayinfos:\n",
    "    total=total+(i[-1]-meanfinal)*(i[-1]-meanfinal)\n",
    "variance=total/(100)\n",
    "variance"
   ]
  },
  {
   "cell_type": "markdown",
   "metadata": {},
   "source": [
    "# PART C"
   ]
  },
  {
   "cell_type": "code",
   "execution_count": 434,
   "metadata": {},
   "outputs": [],
   "source": [
    "# Find the maximum midterm grade for each student.\n",
    "# Your result should be an array including the maximum midterm grades of all students."
   ]
  },
  {
   "cell_type": "code",
   "execution_count": 435,
   "metadata": {},
   "outputs": [
    {
     "data": {
      "text/plain": [
       "array([ 94.98,  87.14,  64.01,  75.95,  72.95,  81.77,  88.79,  59.96,\n",
       "        81.9 ,  92.85,  81.61,  62.52,  63.81, 100.  ,  68.56,  81.61,\n",
       "        80.09,  94.3 ,  90.67,  63.65,  77.5 ,  77.42,  69.46,  85.31,\n",
       "        78.71,  89.18,  66.61,  69.07,  68.  ,  75.94,  62.91,  84.82,\n",
       "        74.96,  72.26,  86.69,  70.99,  58.08,  86.87,  66.2 ,  84.48,\n",
       "        74.73,  60.01,  92.82,  48.03,  69.77,  92.88,  78.9 ,  52.11,\n",
       "        67.26,  84.06,  85.51,  40.16,  78.45,  67.87,  79.38,  82.13,\n",
       "       100.  ,  71.97, 100.  ,  63.37,  72.  ,  53.79, 100.  ,  78.25,\n",
       "        89.31,  91.59,  72.36,  86.71,  66.42,  58.97,  90.62,  78.3 ,\n",
       "        66.84,  83.  ,  69.59,  86.39,  67.81,  65.74,  64.92,  47.41,\n",
       "        65.16,  86.98,  56.75,  56.4 ,  70.18,  53.42,  42.48, 100.  ,\n",
       "        69.39,  77.06,  81.5 ,  75.49,  66.75,  96.66,  55.09,  96.41,\n",
       "       100.  ,  94.05,  85.93,  81.06])"
      ]
     },
     "execution_count": 435,
     "metadata": {},
     "output_type": "execute_result"
    }
   ],
   "source": [
    "# IMPLEMENT YOUR CODE HERE. Your final result should be a 1D array.\n",
    "j = []\n",
    "for i in arrayinfos :\n",
    "    j.append(i[0:3])\n",
    "np.amax(j, axis=1)"
   ]
  },
  {
   "cell_type": "markdown",
   "metadata": {},
   "source": [
    "# PART D"
   ]
  },
  {
   "cell_type": "code",
   "execution_count": 436,
   "metadata": {},
   "outputs": [],
   "source": [
    "# When calculating each student’s course grade: each midterm weighs 20% and final exam weighs 40%. \n",
    "# Based on these weights, compute each student’s course grade.\n",
    "# Your final result should be the average (mean) course grade of all students."
   ]
  },
  {
   "cell_type": "code",
   "execution_count": 437,
   "metadata": {},
   "outputs": [
    {
     "data": {
      "text/plain": [
       "54.015840000000004"
      ]
     },
     "execution_count": 437,
     "metadata": {},
     "output_type": "execute_result"
    }
   ],
   "source": [
    "# IMPLEMENT YOUR CODE HERE. Your final result should be float.\n",
    "mt = 0\n",
    "grades = []\n",
    "for i in arrayinfos:\n",
    "    for j in range(0,3):\n",
    "        mt += i[j]*0.2\n",
    "    mt += i[3]*0.4\n",
    "    grades.append(mt)\n",
    "    mt = 0\n",
    "mean_grades = np.mean(grades,dtype = float)\n",
    "mean_grades"
   ]
  }
 ],
 "metadata": {
  "kernelspec": {
   "display_name": "Python 3",
   "language": "python",
   "name": "python3"
  },
  "language_info": {
   "codemirror_mode": {
    "name": "ipython",
    "version": 3
   },
   "file_extension": ".py",
   "mimetype": "text/x-python",
   "name": "python",
   "nbconvert_exporter": "python",
   "pygments_lexer": "ipython3",
   "version": "3.8.5"
  }
 },
 "nbformat": 4,
 "nbformat_minor": 4
}
