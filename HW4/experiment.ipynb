{
 "cells": [
  {
   "cell_type": "code",
   "execution_count": 1,
   "metadata": {},
   "outputs": [],
   "source": [
    "# Do not forget to run this cell.\n",
    "import numpy as np\n",
    "import matplotlib.pyplot as plt"
   ]
  },
  {
   "cell_type": "markdown",
   "metadata": {},
   "source": [
    "# PART A"
   ]
  },
  {
   "cell_type": "code",
   "execution_count": 2,
   "metadata": {},
   "outputs": [],
   "source": [
    "# You should start with opening the 'actual.txt' file and reading its contents.\n",
    "filenameA = 'actual.txt'"
   ]
  },
  {
   "cell_type": "code",
   "execution_count": 3,
   "metadata": {},
   "outputs": [
    {
     "data": {
      "text/plain": [
       "[25.107490514283192,\n",
       " 26.7300667904594,\n",
       " 23.56189644188721,\n",
       " 24.576008062068034,\n",
       " 20.389447649907464,\n",
       " 26.472507028241232,\n",
       " 20.22902326150204,\n",
       " 26.43984222479451,\n",
       " 29.64399594818827,\n",
       " 20.539253521955825,\n",
       " 28.42888911383025,\n",
       " 27.703737853652715,\n",
       " 22.408780604716586,\n",
       " 26.34124467321852,\n",
       " 25.646073456701647,\n",
       " 27.314176699184564,\n",
       " 21.611462774802998,\n",
       " 24.689353586125215,\n",
       " 27.641614972335944,\n",
       " 23.266066853737332,\n",
       " 23.638414365214146,\n",
       " 21.425257609307828,\n",
       " 25.762695280116272,\n",
       " 22.23556510366476,\n",
       " 20.373224972156027,\n",
       " 28.29344919710415,\n",
       " 29.35174321125518,\n",
       " 28.528979480935128,\n",
       " 26.5642087459318,\n",
       " 22.66252189676233,\n",
       " 22.45309621069812,\n",
       " 24.285782041779864,\n",
       " 25.71284144096857,\n",
       " 21.510209550368806,\n",
       " 26.389411163942277,\n",
       " 27.63974180922847,\n",
       " 22.61268528884982,\n",
       " 21.501510561311015,\n",
       " 28.366458604238606,\n",
       " 26.01587448022158,\n",
       " 26.752820803796773,\n",
       " 23.362829723293828,\n",
       " 23.187351750413544,\n",
       " 26.544969654749075,\n",
       " 20.892357210552436,\n",
       " 26.607520136954253,\n",
       " 26.77864982985063,\n",
       " 28.0114078989418,\n",
       " 24.304808091253147,\n",
       " 23.54865850339798]"
      ]
     },
     "execution_count": 3,
     "metadata": {},
     "output_type": "execute_result"
    }
   ],
   "source": [
    "# IMPLEMENT YOUR CODE HERE. Your final result should be a list named lst_a\n",
    "file = open(filenameA , 'r')\n",
    "lst_a = []\n",
    "for i in file:\n",
    "    lst_a.append(float(i))\n",
    "file.close()\n",
    "lst_a"
   ]
  },
  {
   "cell_type": "code",
   "execution_count": 4,
   "metadata": {},
   "outputs": [],
   "source": [
    "# Then, you should continue with opening the 'prediction.txt' file and reading its contents.\n",
    "filenameP = 'prediction.txt'"
   ]
  },
  {
   "cell_type": "code",
   "execution_count": 5,
   "metadata": {},
   "outputs": [
    {
     "data": {
      "text/plain": [
       "[25.29698087437678,\n",
       " 26.97812772555742,\n",
       " 23.814685436917586,\n",
       " 24.871575073851254,\n",
       " 20.803175297350066,\n",
       " 26.440489416285697,\n",
       " 20.420445484255634,\n",
       " 26.362188562000114,\n",
       " 30.059428858952387,\n",
       " 20.47356988384456,\n",
       " 28.608121808702933,\n",
       " 27.704703481179966,\n",
       " 22.759727278441105,\n",
       " 26.403913996702236,\n",
       " 25.683199415889696,\n",
       " 27.50952404062078,\n",
       " 22.19747377105373,\n",
       " 25.177254051751145,\n",
       " 27.42069128480429,\n",
       " 23.706736532951677,\n",
       " 24.039020382918892,\n",
       " 21.449570080596782,\n",
       " 25.95421075426409,\n",
       " 22.256745165432456,\n",
       " 20.283889306126312,\n",
       " 28.19130176189215,\n",
       " 29.698613508098365,\n",
       " 28.416687490129533,\n",
       " 27.103104045774494,\n",
       " 23.235686204689625,\n",
       " 22.74264546690908,\n",
       " 24.16458891362632,\n",
       " 25.718459866070774,\n",
       " 21.871011257573585,\n",
       " 26.819295620124997,\n",
       " 28.016680993697044,\n",
       " 22.891338410650796,\n",
       " 21.779614950039555,\n",
       " 28.74453840216936,\n",
       " 26.005220576688956,\n",
       " 26.983733961744605,\n",
       " 23.62175266855628,\n",
       " 23.450859955679864,\n",
       " 26.55468555783939,\n",
       " 21.153976626845854,\n",
       " 26.88076404741748,\n",
       " 27.33821879954603,\n",
       " 28.23993959305186,\n",
       " 24.62811333299545,\n",
       " 23.46005942233007]"
      ]
     },
     "execution_count": 5,
     "metadata": {},
     "output_type": "execute_result"
    }
   ],
   "source": [
    "# IMPLEMENT YOUR CODE HERE. Your final result should be a list named lst_p\n",
    "file = open(filenameP , 'r')\n",
    "lst_p = []\n",
    "for i in file:\n",
    "    lst_p.append(float(i))\n",
    "file.close()\n",
    "lst_p"
   ]
  },
  {
   "cell_type": "markdown",
   "metadata": {},
   "source": [
    "# PART B"
   ]
  },
  {
   "cell_type": "code",
   "execution_count": 6,
   "metadata": {},
   "outputs": [],
   "source": [
    "# In this part, you will be calculating mean squared error (MSE) and mean absolute error (MAE).\n",
    "# You will be using lst_a and lst_p you obtained in Part A."
   ]
  },
  {
   "cell_type": "code",
   "execution_count": 7,
   "metadata": {},
   "outputs": [
    {
     "data": {
      "text/plain": [
       "0.08593074847863753"
      ]
     },
     "execution_count": 7,
     "metadata": {},
     "output_type": "execute_result"
    }
   ],
   "source": [
    "# IMPLEMENT THE CODE TO CALCULATE MEAN SQUARED ERROR (MSE) HERE. Your final result should be a float.\n",
    "MSE = 0\n",
    "a = np.array(lst_p) \n",
    "b = np.array(lst_a) \n",
    "temp = (np.square(a-b))\n",
    "MSE = np.mean(temp)\n",
    "MSE  "
   ]
  },
  {
   "cell_type": "code",
   "execution_count": 8,
   "metadata": {},
   "outputs": [
    {
     "data": {
      "text/plain": [
       "0.2434272472101283"
      ]
     },
     "execution_count": 8,
     "metadata": {},
     "output_type": "execute_result"
    }
   ],
   "source": [
    "# IMPLEMENT THE CODE TO CALCULATE MEAN ABSOLUTE ERROR (MAE) HERE. Your final result should be a float.\n",
    "MAE = 0\n",
    "a = np.array(lst_p) \n",
    "b = np.array(lst_a)\n",
    "temp = (np.abs(a-b))\n",
    "MAE = np.mean(temp)\n",
    "MAE"
   ]
  },
  {
   "cell_type": "markdown",
   "metadata": {},
   "source": [
    "# PART C"
   ]
  },
  {
   "cell_type": "code",
   "execution_count": 9,
   "metadata": {},
   "outputs": [],
   "source": [
    "# In this part, you will be plotting the lst_a and lst_p data you have."
   ]
  },
  {
   "cell_type": "code",
   "execution_count": 10,
   "metadata": {},
   "outputs": [
    {
     "data": {
      "image/png": "[encoded data removed]",
      "text/plain": [
       "<Figure size 432x288 with 1 Axes>"
      ]
     },
     "metadata": {
      "needs_background": "light"
     },
     "output_type": "display_data"
    }
   ],
   "source": [
    "# IMPLEMENT YOUR FUNCTION HERE. WHEN YOU RUN THIS CELL, YOUR SHOULD SEE YOUR PLOT BELOW.\n",
    "x = lst_a\n",
    "plt.xlim(xmin=18, xmax=32)\n",
    "y = lst_p\n",
    "plt.ylim(ymin=18, ymax=32)\n",
    "plt.plot(x,y,'rd')\n",
    "plt.title('Experiment Results')\n",
    "plt.xlabel('Actual Values')\n",
    "plt.ylabel('Predicted Values')\n",
    "plt.show()"
   ]
  }
 ],
 "metadata": {
  "kernelspec": {
   "display_name": "Python 3",
   "language": "python",
   "name": "python3"
  },
  "language_info": {
   "codemirror_mode": {
    "name": "ipython",
    "version": 3
   },
   "file_extension": ".py",
   "mimetype": "text/x-python",
   "name": "python",
   "nbconvert_exporter": "python",
   "pygments_lexer": "ipython3",
   "version": "3.8.5"
  }
 },
 "nbformat": 4,
 "nbformat_minor": 4
}
