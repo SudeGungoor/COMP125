{
 "cells": [
  {
   "cell_type": "code",
   "execution_count": 29,
   "metadata": {},
   "outputs": [],
   "source": [
    "# Do not forget to run this cell.\n",
    "import numpy as np\n",
    "import matplotlib.pyplot as plt"
   ]
  },
  {
   "cell_type": "markdown",
   "metadata": {},
   "source": [
    "# PART A"
   ]
  },
  {
   "cell_type": "code",
   "execution_count": 30,
   "metadata": {},
   "outputs": [],
   "source": [
    "# In this first cell, you are given an n value. You can assume n ≥ 3, no need for error checking.\n",
    "# If you change this n value, make sure that you re-run this cell before running the next one.\n",
    "n = 4"
   ]
  },
  {
   "cell_type": "code",
   "execution_count": 31,
   "metadata": {},
   "outputs": [
    {
     "name": "stdout",
     "output_type": "stream",
     "text": [
      "[[0. 0. 0. 0.]\n",
      " [0. 1. 1. 0.]\n",
      " [0. 1. 1. 0.]\n",
      " [0. 0. 0. 0.]]\n"
     ]
    }
   ],
   "source": [
    "# IMPLEMENT YOUR CODE HERE. Your final result should be a Numpy array\n",
    "a = np.zeros((n, n), dtype=float)\n",
    "a[1:n-1, 1:n-1] = 1\n",
    "print(a)"
   ]
  },
  {
   "cell_type": "code",
   "execution_count": null,
   "metadata": {
    "scrolled": false
   },
   "outputs": [],
   "source": []
  },
  {
   "cell_type": "markdown",
   "metadata": {},
   "source": [
    "# PART B"
   ]
  },
  {
   "cell_type": "code",
   "execution_count": 32,
   "metadata": {},
   "outputs": [],
   "source": [
    "# In this cell, you are given a list of lists.\n",
    "# If you change this list, make sure that you re-run this cell before running the next one.\n",
    "\n",
    "lst = [[1., 6., 7., 4.], [8., 0., 3., 4.], [9., 1., 6., 5.], [6., 7., 0., 2.]]"
   ]
  },
  {
   "cell_type": "code",
   "execution_count": 33,
   "metadata": {},
   "outputs": [
    {
     "data": {
      "text/plain": [
       "array([[2., 0., 7., 6.],\n",
       "       [5., 6., 1., 9.],\n",
       "       [4., 3., 0., 8.],\n",
       "       [4., 7., 6., 1.]])"
      ]
     },
     "execution_count": 33,
     "metadata": {},
     "output_type": "execute_result"
    }
   ],
   "source": [
    "# IMPLEMENT YOUR CODE HERE. Your final result should be a Numpy array\n",
    "lst.reverse()\n",
    "for i in range(0,len(lst)):\n",
    "    lst[i].reverse()\n",
    "np.array(lst)"
   ]
  },
  {
   "cell_type": "markdown",
   "metadata": {},
   "source": [
    "# PART C"
   ]
  },
  {
   "cell_type": "code",
   "execution_count": 34,
   "metadata": {},
   "outputs": [],
   "source": [
    "# In this cell, you are given an integer m.\n",
    "# If you change this m value, make sure that you re-run this cell before running the next one.\n",
    "\n",
    "m = 25"
   ]
  },
  {
   "cell_type": "code",
   "execution_count": 35,
   "metadata": {},
   "outputs": [
    {
     "data": {
      "image/png": "[encoded data removed]",
      "text/plain": [
       "<Figure size 432x288 with 1 Axes>"
      ]
     },
     "metadata": {
      "needs_background": "light"
     },
     "output_type": "display_data"
    }
   ],
   "source": [
    "# IMPLEMENT YOUR CODE HERE. WHEN YOU RUN THIS CELL, YOUR SHOULD SEE YOUR PLOT BELOW.\n",
    "x = np.linspace(-40,40,m)\n",
    "y = x**2\n",
    "plt.plot(x,y)\n",
    "plt.title('y = x^2 Approximation')\n",
    "plt.xlabel('Values of x')\n",
    "plt.ylabel('Values of y')\n",
    "plt.show()"
   ]
  }
 ],
 "metadata": {
  "kernelspec": {
   "display_name": "Python 3",
   "language": "python",
   "name": "python3"
  },
  "language_info": {
   "codemirror_mode": {
    "name": "ipython",
    "version": 3
   },
   "file_extension": ".py",
   "mimetype": "text/x-python",
   "name": "python",
   "nbconvert_exporter": "python",
   "pygments_lexer": "ipython3",
   "version": "3.8.5"
  }
 },
 "nbformat": 4,
 "nbformat_minor": 4
}
