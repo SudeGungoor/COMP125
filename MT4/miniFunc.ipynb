{
 "cells": [
  {
   "cell_type": "code",
   "execution_count": 2,
   "metadata": {},
   "outputs": [],
   "source": [
    "import numpy as np\n",
    "import matplotlib.pyplot as plt"
   ]
  },
  {
   "cell_type": "markdown",
   "metadata": {},
   "source": [
    "# Part A:"
   ]
  },
  {
   "cell_type": "code",
   "execution_count": 4,
   "metadata": {},
   "outputs": [
    {
     "data": {
      "text/plain": [
       "array([12.,  8., -4.])"
      ]
     },
     "execution_count": 4,
     "metadata": {},
     "output_type": "execute_result"
    }
   ],
   "source": [
    "# IMPLEMENT YOUR CODE HERE. In the PDF, you are given a set of equations. Solve that system using Numpy. \n",
    "a = np.array([[0,1, 1], [1, 2,4], [2, -3,-1]])\n",
    "b = np.array([4, 12,4])\n",
    "x = np.linalg.solve(a, b)\n",
    "x\n",
    "\n"
   ]
  },
  {
   "cell_type": "markdown",
   "metadata": {},
   "source": [
    "# Part B:"
   ]
  },
  {
   "cell_type": "code",
   "execution_count": 6,
   "metadata": {},
   "outputs": [],
   "source": [
    "# In this cell, you are given two 1D Numpy arrays X and Y.\n",
    "X = np.array([0.02, 0.42, 0.19, 0.44, 0.62, 0.15, 0.36,\n",
    "               0.23, 0.67, 0.23, 0.06, 0.28, 0.49, 0.54])\n",
    "\n",
    "Y = np.array([0.95 , 0.26, 0.21, 0.80, 0.72, 0.67, 0.09,\n",
    "               0.47, 0.01, 0.73, 0.24, 0.89, 0.73, 0.53])"
   ]
  },
  {
   "cell_type": "code",
   "execution_count": 14,
   "metadata": {},
   "outputs": [
    {
     "name": "stdout",
     "output_type": "stream",
     "text": [
      "-0.012393406593406589\n"
     ]
    }
   ],
   "source": [
    "# IMPLEMENT YOUR CODE HERE. Write a code to calculate covariance. YOU CANNOT USE NP.COV FUNCTION!\n",
    "meanX=np.mean(X)\n",
    "meanY=np.mean(Y)\n",
    "list1=[]\n",
    "list2=[]\n",
    "list3=[]\n",
    "for i in X:\n",
    "    list1.append(i)\n",
    "for i in Y:\n",
    "    list2.append(i)\n",
    "list3.append(list1)\n",
    "list3.append(list2)\n",
    "total=0\n",
    "for i in range(0,len(list1)):\n",
    "    total=total+(list3[0][i]-meanX)*(list3[1][i]-meanY)\n",
    "print(total/(len(list1)-1))"
   ]
  },
  {
   "cell_type": "markdown",
   "metadata": {},
   "source": [
    "# Part C:"
   ]
  },
  {
   "cell_type": "code",
   "execution_count": 46,
   "metadata": {},
   "outputs": [],
   "source": [
    "# In this cell, you are given a list of lists.\n",
    "lst = [[1,0,0],[0,0,-1],[0,-1,0]]"
   ]
  },
  {
   "cell_type": "code",
   "execution_count": 50,
   "metadata": {},
   "outputs": [
    {
     "name": "stdout",
     "output_type": "stream",
     "text": [
      "A is orthogonal\n"
     ]
    }
   ],
   "source": [
    "# IMPLEMENT YOUR CODE HERE. Check whether the given matrix is an orthogonal matrix.\n",
    "array = np.array(lst)\n",
    "array2 = np.transpose(array)\n",
    "array3 = np.linalg.inv(array)\n",
    "if np.array_equal(array2,array3):\n",
    "    print(\"A is orthogonal\")\n",
    "else: \n",
    "    print(\"A is not orthogonal\")\n"
   ]
  },
  {
   "cell_type": "markdown",
   "metadata": {},
   "source": [
    "# Part D:"
   ]
  },
  {
   "cell_type": "code",
   "execution_count": 43,
   "metadata": {},
   "outputs": [
    {
     "data": {
      "text/plain": [
       "[<matplotlib.lines.Line2D at 0x2021d97ad90>]"
      ]
     },
     "execution_count": 43,
     "metadata": {},
     "output_type": "execute_result"
    },
    {
     "data": {
      "image/png": "[encoded data removed]",
      "text/plain": [
       "<Figure size 432x288 with 1 Axes>"
      ]
     },
     "metadata": {
      "needs_background": "light"
     },
     "output_type": "display_data"
    }
   ],
   "source": [
    "# IMPLEMENT YOUR CODE HERE.\n",
    "\n",
    "plt.xlim(xmin=-50,xmax=70)\n",
    "plt.ylim(ymin=-50,ymax=150)\n",
    "plt.title(\"Celsius to Fahrenheit Conversion\")\n",
    "plt.xlabel(\"Celsius\")\n",
    "plt.ylabel(\"Fahrenheit\")\n",
    "y=9/5*x+32\n",
    "plt.grid(True)\n",
    "list1=[]\n",
    "list2=[]\n",
    "for i in range(-40,61):\n",
    "    list1.append(i)\n",
    "    list2.append(i*9/5+32)\n",
    "plt.plot(list1,list2,\"--\",color=\"black\")    \n",
    "plt.plot(0,32, marker='o',markersize=7,markerfacecolor='r')"
   ]
  },
  {
   "cell_type": "code",
   "execution_count": null,
   "metadata": {},
   "outputs": [],
   "source": []
  }
 ],
 "metadata": {
  "kernelspec": {
   "display_name": "Python 3",
   "language": "python",
   "name": "python3"
  },
  "language_info": {
   "codemirror_mode": {
    "name": "ipython",
    "version": 3
   },
   "file_extension": ".py",
   "mimetype": "text/x-python",
   "name": "python",
   "nbconvert_exporter": "python",
   "pygments_lexer": "ipython3",
   "version": "3.8.5"
  }
 },
 "nbformat": 4,
 "nbformat_minor": 4
}
