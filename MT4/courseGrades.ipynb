{
 "cells": [
  {
   "cell_type": "code",
   "execution_count": 1,
   "metadata": {},
   "outputs": [],
   "source": [
    "import numpy as np\n",
    "import matplotlib.pyplot as plt"
   ]
  },
  {
   "cell_type": "markdown",
   "metadata": {},
   "source": [
    "# Part A:"
   ]
  },
  {
   "cell_type": "code",
   "execution_count": 2,
   "metadata": {},
   "outputs": [],
   "source": [
    "# The following file is given to you.\n",
    "filename = 'grades.txt'"
   ]
  },
  {
   "cell_type": "code",
   "execution_count": 3,
   "metadata": {},
   "outputs": [
    {
     "data": {
      "text/plain": [
       "array([ 52.5 ,  61.6 ,  54.7 ,  64.4 ,  52.95,  69.45,  73.95,  67.25,\n",
       "        46.3 ,  39.  ,  50.75,  57.6 ,  47.7 ,  43.95,  40.85,  62.25,\n",
       "        63.65,  39.3 ,  47.85,  39.25,  37.45,  30.7 ,  50.1 ,  49.15,\n",
       "        42.8 ,  87.9 ,  88.3 ,  21.85,  62.9 ,  44.6 ,  51.  ,  85.75,\n",
       "        56.9 ,  36.65,  39.  ,  39.55,  34.2 ,  43.9 ,  58.95,  36.7 ,\n",
       "        23.15,  45.9 ,  84.35,  49.2 ,  54.9 ,  19.5 ,  23.75,   8.5 ,\n",
       "        24.05,  37.65,  55.55,  63.85,  44.8 ,  85.7 ,  76.75,  47.05,\n",
       "        58.  ,  65.  ,  36.45,   0.  ,  64.5 ,  63.1 ,  52.3 ,  91.5 ,\n",
       "        44.65,  36.85,  44.65,  41.3 ,  27.4 ,  35.2 , 100.  ,  73.15,\n",
       "        34.8 ,  52.65,  27.75,  37.3 ,  49.05,  47.8 ,  82.05,  48.55,\n",
       "        59.4 ,  49.  ,  21.75,  49.95,  38.15,  66.65,  62.35,  62.95,\n",
       "        42.95,  74.25,  28.3 ,  31.2 ,  37.05,  39.1 ,  23.1 ,  69.5 ,\n",
       "        18.3 ,  64.1 ,  47.4 ,  46.75,  62.2 ])"
      ]
     },
     "execution_count": 3,
     "metadata": {},
     "output_type": "execute_result"
    }
   ],
   "source": [
    "# IMPLEMENT YOUR CODE HERE:\n",
    "file = open(filename , 'r')\n",
    "i=0\n",
    "infos = []\n",
    "list1=[]\n",
    "for line in file:\n",
    "    info = line.strip(\"\\n\").split(\",\")\n",
    "    if i >= 1:\n",
    "        for a in info:\n",
    "            list1.append(float(a))\n",
    "        infos.append(list1)\n",
    "    list1=[]\n",
    "    i+=1\n",
    "arrayinfos = np.array(infos)\n",
    "temp=0\n",
    "list2=[]\n",
    "for a in arrayinfos:\n",
    "    temp=temp+a[0]*1/5\n",
    "    temp=temp+a[1]*1/5\n",
    "    temp=temp+a[2]*1/4\n",
    "    temp=temp+a[3]*35/100\n",
    "    list2.append(temp)\n",
    "    temp=0\n",
    "arraygrade = np.array(list2)\n",
    "file.close()\n",
    "arraygrade"
   ]
  },
  {
   "cell_type": "markdown",
   "metadata": {},
   "source": [
    "# Part B:"
   ]
  },
  {
   "cell_type": "code",
   "execution_count": 4,
   "metadata": {},
   "outputs": [
    {
     "data": {
      "image/png": "[encoded data removed]",
      "text/plain": [
       "<Figure size 432x288 with 1 Axes>"
      ]
     },
     "metadata": {
      "needs_background": "light"
     },
     "output_type": "display_data"
    }
   ],
   "source": [
    "# IMPLEMENT YOUR CODE HERE. YOU WILL BE PLOTTING A BAR CHART.\n",
    "\n",
    "temp=0\n",
    "mt1=[]\n",
    "mt2=[]\n",
    "mt3=[]\n",
    "mt4=[]\n",
    "for a in arrayinfos:\n",
    "    mt1.append(a[0])\n",
    "    mt2.append(a[1])\n",
    "    mt3.append(a[2])\n",
    "    mt4.append(a[3])\n",
    "mt1a = np.array(mt1)\n",
    "mt2a = np.array(mt2)\n",
    "mt3a = np.array(mt3)\n",
    "mt4a = np.array(mt4)\n",
    "\n",
    "plt.bar(\"Mt1\",np.mean(mt1a),color=\"red\",width=0.8)\n",
    "plt.bar(\"Mt2\",np.mean(mt2a),color=\"green\",width=0.8)\n",
    "plt.bar(\"Mt3\",np.mean(mt3a),color=\"black\",width=0.8)\n",
    "plt.bar(\"Final\",np.mean(mt4a),color=\"yellow\",width=0.8)\n",
    "\n",
    "plt.show()\n",
    "\n"
   ]
  },
  {
   "cell_type": "markdown",
   "metadata": {},
   "source": [
    "# Part C:"
   ]
  },
  {
   "cell_type": "code",
   "execution_count": 5,
   "metadata": {},
   "outputs": [
    {
     "data": {
      "image/png": "[encoded data removed]",
      "text/plain": [
       "<Figure size 432x288 with 1 Axes>"
      ]
     },
     "metadata": {
      "needs_background": "light"
     },
     "output_type": "display_data"
    }
   ],
   "source": [
    "# IMPLEMENT YOUR CODE HERE. YOU WILL BE PLOTTING A HISTOGRAM.\n",
    "\n",
    "plt.title(\"Course Grade Distribution\")\n",
    "plt.xlabel(\"Grades\")\n",
    "plt.ylabel(\"Number of Students\")\n",
    "plt.hist(arraygrade,bins=10,color=\"green\")\n",
    "plt.show()\n",
    "\n"
   ]
  },
  {
   "cell_type": "markdown",
   "metadata": {},
   "source": [
    "# Part D:"
   ]
  },
  {
   "cell_type": "code",
   "execution_count": 6,
   "metadata": {},
   "outputs": [
    {
     "data": {
      "image/png": "[encoded data removed]",
      "text/plain": [
       "<Figure size 432x288 with 1 Axes>"
      ]
     },
     "metadata": {},
     "output_type": "display_data"
    }
   ],
   "source": [
    "# IMPLEMENT YOUR CODE HERE. YOU WILL BE PLOTTING A PIE CHART.\n",
    "\n",
    "plt.title(\"Letter Grade Distribution\")\n",
    "a=0\n",
    "b=0\n",
    "c=0\n",
    "d=0\n",
    "f=0\n",
    "for i in arraygrade:\n",
    "    if i>=0 and i<30:\n",
    "        f=f+1\n",
    "    if i>=30 and i<40:\n",
    "        d=d+1\n",
    "    if i>=40 and i<60:\n",
    "        c=c+1\n",
    "    if i>=60 and i<80:\n",
    "        b=b+1\n",
    "    if i>=80 and i<100:\n",
    "        a=a+1\n",
    "plt.pie(np.array([a,b,c,d,f]),labels=[\"A\",\"B\",\"C\",\"D\",\"F\"])\n",
    "plt.show()\n",
    "\n",
    "\n"
   ]
  },
  {
   "cell_type": "code",
   "execution_count": null,
   "metadata": {},
   "outputs": [],
   "source": []
  }
 ],
 "metadata": {
  "kernelspec": {
   "display_name": "Python 3",
   "language": "python",
   "name": "python3"
  },
  "language_info": {
   "codemirror_mode": {
    "name": "ipython",
    "version": 3
   },
   "file_extension": ".py",
   "mimetype": "text/x-python",
   "name": "python",
   "nbconvert_exporter": "python",
   "pygments_lexer": "ipython3",
   "version": "3.8.5"
  }
 },
 "nbformat": 4,
 "nbformat_minor": 4
}
